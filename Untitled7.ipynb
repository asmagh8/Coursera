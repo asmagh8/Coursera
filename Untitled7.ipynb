{
  "nbformat": 4,
  "nbformat_minor": 0,
  "metadata": {
    "colab": {
      "provenance": [],
      "authorship_tag": "ABX9TyO2k4bAeB6eIHKgyourXWqq",
      "include_colab_link": true
    },
    "kernelspec": {
      "name": "python3",
      "display_name": "Python 3"
    },
    "language_info": {
      "name": "python"
    }
  },
  "cells": [
    {
      "cell_type": "markdown",
      "metadata": {
        "id": "view-in-github",
        "colab_type": "text"
      },
      "source": [
        "<a href=\"https://colab.research.google.com/github/asmagh8/Coursera/blob/master/Untitled7.ipynb\" target=\"_parent\"><img src=\"https://colab.research.google.com/assets/colab-badge.svg\" alt=\"Open In Colab\"/></a>"
      ]
    },
    {
      "cell_type": "code",
      "execution_count": 1,
      "metadata": {
        "id": "KPJvgt7XAMKT"
      },
      "outputs": [],
      "source": [
        "import pandas as pd\n",
        "import numpy as np"
      ]
    },
    {
      "cell_type": "code",
      "source": [
        "concrete_data = pd.read_csv('https://s3-api.us-geo.objectstorage.softlayer.net/cf-courses-data/CognitiveClass/DL0101EN/labs/data/concrete_data.csv')"
      ],
      "metadata": {
        "id": "CCO4l0PmAlbj"
      },
      "execution_count": 36,
      "outputs": []
    },
    {
      "cell_type": "markdown",
      "source": [
        "# Split data into predictors and target"
      ],
      "metadata": {
        "id": "pB2jh4YJA3vZ"
      }
    },
    {
      "cell_type": "code",
      "source": [
        "concrete_data_columns = concrete_data.columns\n",
        "\n",
        "predictors = concrete_data[concrete_data_columns[concrete_data_columns != 'Strength']] # all columns except Strength\n",
        "target = concrete_data['Strength'] # Strength column\n",
        "n_cols = predictors.shape[1] # number of predictors"
      ],
      "metadata": {
        "id": "LhxEbaU8A3AQ"
      },
      "execution_count": 16,
      "outputs": []
    },
    {
      "cell_type": "markdown",
      "source": [
        "# Train / Test Split"
      ],
      "metadata": {
        "id": "ZQUkBoOpC_7y"
      }
    },
    {
      "cell_type": "code",
      "source": [
        "from sklearn.model_selection import train_test_split\n",
        "X_train, X_test, y_train, y_test = train_test_split( predictors, target, test_size=0.30)"
      ],
      "metadata": {
        "id": "_F6V2RPSDFt0"
      },
      "execution_count": 17,
      "outputs": []
    },
    {
      "cell_type": "markdown",
      "source": [
        "# Baseline Model"
      ],
      "metadata": {
        "id": "c-u99i4IBjq5"
      }
    },
    {
      "cell_type": "code",
      "source": [
        "import keras"
      ],
      "metadata": {
        "id": "SOPf4g4eBn0j"
      },
      "execution_count": 18,
      "outputs": []
    },
    {
      "cell_type": "code",
      "source": [
        "from keras.models import Sequential\n",
        "from keras.layers import Dense"
      ],
      "metadata": {
        "id": "g3PBqLJVB7tK"
      },
      "execution_count": 19,
      "outputs": []
    },
    {
      "cell_type": "code",
      "source": [
        "# define regression model\n",
        "def regression_model():\n",
        "    # create model\n",
        "    model = Sequential()\n",
        "    model.add(Dense(10, activation='relu', input_shape=(n_cols,)))\n",
        "    model.add(Dense(1))\n",
        "    \n",
        "    # compile model\n",
        "    model.compile(optimizer='adam', loss='mean_squared_error')\n",
        "    return model"
      ],
      "metadata": {
        "id": "LnfghMTHB_dC"
      },
      "execution_count": 20,
      "outputs": []
    },
    {
      "cell_type": "code",
      "source": [
        "model = regression_model()"
      ],
      "metadata": {
        "id": "8MOdW_dbCvJ0"
      },
      "execution_count": 21,
      "outputs": []
    },
    {
      "cell_type": "code",
      "source": [
        "model.fit(X_train, y_train, epochs=50, verbose=2)"
      ],
      "metadata": {
        "colab": {
          "base_uri": "https://localhost:8080/"
        },
        "id": "7iHIcwZiD7NF",
        "outputId": "1f33e19a-9cec-4632-af81-6970b09866e2"
      },
      "execution_count": 22,
      "outputs": [
        {
          "output_type": "stream",
          "name": "stdout",
          "text": [
            "Epoch 1/50\n",
            "23/23 - 1s - loss: 281328.9688 - 786ms/epoch - 34ms/step\n",
            "Epoch 2/50\n",
            "23/23 - 0s - loss: 126767.7656 - 40ms/epoch - 2ms/step\n",
            "Epoch 3/50\n",
            "23/23 - 0s - loss: 50202.9922 - 39ms/epoch - 2ms/step\n",
            "Epoch 4/50\n",
            "23/23 - 0s - loss: 18088.8008 - 49ms/epoch - 2ms/step\n",
            "Epoch 5/50\n",
            "23/23 - 0s - loss: 5222.1587 - 46ms/epoch - 2ms/step\n",
            "Epoch 6/50\n",
            "23/23 - 0s - loss: 1647.6803 - 37ms/epoch - 2ms/step\n",
            "Epoch 7/50\n",
            "23/23 - 0s - loss: 1420.4723 - 48ms/epoch - 2ms/step\n",
            "Epoch 8/50\n",
            "23/23 - 0s - loss: 1312.8293 - 42ms/epoch - 2ms/step\n",
            "Epoch 9/50\n",
            "23/23 - 0s - loss: 1228.0388 - 36ms/epoch - 2ms/step\n",
            "Epoch 10/50\n",
            "23/23 - 0s - loss: 1152.9271 - 42ms/epoch - 2ms/step\n",
            "Epoch 11/50\n",
            "23/23 - 0s - loss: 1084.2415 - 43ms/epoch - 2ms/step\n",
            "Epoch 12/50\n",
            "23/23 - 0s - loss: 1021.1312 - 34ms/epoch - 1ms/step\n",
            "Epoch 13/50\n",
            "23/23 - 0s - loss: 969.6116 - 36ms/epoch - 2ms/step\n",
            "Epoch 14/50\n",
            "23/23 - 0s - loss: 912.3937 - 37ms/epoch - 2ms/step\n",
            "Epoch 15/50\n",
            "23/23 - 0s - loss: 863.2875 - 31ms/epoch - 1ms/step\n",
            "Epoch 16/50\n",
            "23/23 - 0s - loss: 818.4387 - 33ms/epoch - 1ms/step\n",
            "Epoch 17/50\n",
            "23/23 - 0s - loss: 775.9738 - 38ms/epoch - 2ms/step\n",
            "Epoch 18/50\n",
            "23/23 - 0s - loss: 735.7558 - 34ms/epoch - 1ms/step\n",
            "Epoch 19/50\n",
            "23/23 - 0s - loss: 697.6737 - 40ms/epoch - 2ms/step\n",
            "Epoch 20/50\n",
            "23/23 - 0s - loss: 663.4370 - 40ms/epoch - 2ms/step\n",
            "Epoch 21/50\n",
            "23/23 - 0s - loss: 629.8704 - 40ms/epoch - 2ms/step\n",
            "Epoch 22/50\n",
            "23/23 - 0s - loss: 600.3311 - 34ms/epoch - 1ms/step\n",
            "Epoch 23/50\n",
            "23/23 - 0s - loss: 572.5222 - 35ms/epoch - 2ms/step\n",
            "Epoch 24/50\n",
            "23/23 - 0s - loss: 548.6989 - 31ms/epoch - 1ms/step\n",
            "Epoch 25/50\n",
            "23/23 - 0s - loss: 521.8167 - 43ms/epoch - 2ms/step\n",
            "Epoch 26/50\n",
            "23/23 - 0s - loss: 499.4268 - 43ms/epoch - 2ms/step\n",
            "Epoch 27/50\n",
            "23/23 - 0s - loss: 474.7312 - 36ms/epoch - 2ms/step\n",
            "Epoch 28/50\n",
            "23/23 - 0s - loss: 455.2798 - 35ms/epoch - 2ms/step\n",
            "Epoch 29/50\n",
            "23/23 - 0s - loss: 436.4554 - 35ms/epoch - 2ms/step\n",
            "Epoch 30/50\n",
            "23/23 - 0s - loss: 419.2822 - 36ms/epoch - 2ms/step\n",
            "Epoch 31/50\n",
            "23/23 - 0s - loss: 404.3520 - 33ms/epoch - 1ms/step\n",
            "Epoch 32/50\n",
            "23/23 - 0s - loss: 388.6750 - 44ms/epoch - 2ms/step\n",
            "Epoch 33/50\n",
            "23/23 - 0s - loss: 375.1338 - 40ms/epoch - 2ms/step\n",
            "Epoch 34/50\n",
            "23/23 - 0s - loss: 363.0912 - 46ms/epoch - 2ms/step\n",
            "Epoch 35/50\n",
            "23/23 - 0s - loss: 351.9765 - 40ms/epoch - 2ms/step\n",
            "Epoch 36/50\n",
            "23/23 - 0s - loss: 339.8572 - 37ms/epoch - 2ms/step\n",
            "Epoch 37/50\n",
            "23/23 - 0s - loss: 330.6257 - 38ms/epoch - 2ms/step\n",
            "Epoch 38/50\n",
            "23/23 - 0s - loss: 322.8451 - 47ms/epoch - 2ms/step\n",
            "Epoch 39/50\n",
            "23/23 - 0s - loss: 312.5601 - 40ms/epoch - 2ms/step\n",
            "Epoch 40/50\n",
            "23/23 - 0s - loss: 303.6149 - 49ms/epoch - 2ms/step\n",
            "Epoch 41/50\n",
            "23/23 - 0s - loss: 295.8490 - 46ms/epoch - 2ms/step\n",
            "Epoch 42/50\n",
            "23/23 - 0s - loss: 288.7357 - 41ms/epoch - 2ms/step\n",
            "Epoch 43/50\n",
            "23/23 - 0s - loss: 282.0581 - 35ms/epoch - 2ms/step\n",
            "Epoch 44/50\n",
            "23/23 - 0s - loss: 275.1170 - 35ms/epoch - 2ms/step\n",
            "Epoch 45/50\n",
            "23/23 - 0s - loss: 270.4824 - 43ms/epoch - 2ms/step\n",
            "Epoch 46/50\n",
            "23/23 - 0s - loss: 262.9810 - 39ms/epoch - 2ms/step\n",
            "Epoch 47/50\n",
            "23/23 - 0s - loss: 259.0874 - 36ms/epoch - 2ms/step\n",
            "Epoch 48/50\n",
            "23/23 - 0s - loss: 253.3183 - 41ms/epoch - 2ms/step\n",
            "Epoch 49/50\n",
            "23/23 - 0s - loss: 248.2558 - 40ms/epoch - 2ms/step\n",
            "Epoch 50/50\n",
            "23/23 - 0s - loss: 243.6302 - 37ms/epoch - 2ms/step\n"
          ]
        },
        {
          "output_type": "execute_result",
          "data": {
            "text/plain": [
              "<keras.callbacks.History at 0x7f5d07f025b0>"
            ]
          },
          "metadata": {},
          "execution_count": 22
        }
      ]
    },
    {
      "cell_type": "code",
      "source": [
        "loss_val = model.evaluate(X_test, y_test)\n",
        "y_pred = model.predict(X_test)\n",
        "loss_val"
      ],
      "metadata": {
        "colab": {
          "base_uri": "https://localhost:8080/"
        },
        "id": "8UNiGv-BEm99",
        "outputId": "8d767684-2f3e-416e-f0cf-770876dc177a"
      },
      "execution_count": 23,
      "outputs": [
        {
          "output_type": "stream",
          "name": "stdout",
          "text": [
            "10/10 [==============================] - 0s 2ms/step - loss: 250.8904\n",
            "10/10 [==============================] - 0s 2ms/step\n"
          ]
        },
        {
          "output_type": "execute_result",
          "data": {
            "text/plain": [
              "250.89044189453125"
            ]
          },
          "metadata": {},
          "execution_count": 23
        }
      ]
    },
    {
      "cell_type": "code",
      "source": [
        "from sklearn.metrics import mean_squared_error\n",
        "mean_square_error = mean_squared_error(y_test, y_pred)\n",
        "mean = np.mean(mean_square_error)\n",
        "standard_deviation = np.std(mean_square_error)\n",
        "print(mean, standard_deviation)"
      ],
      "metadata": {
        "colab": {
          "base_uri": "https://localhost:8080/"
        },
        "id": "8lztTmCzFJKf",
        "outputId": "eef60965-6f41-4216-a4ff-589937fb0c2a"
      },
      "execution_count": 24,
      "outputs": [
        {
          "output_type": "stream",
          "name": "stdout",
          "text": [
            "250.8905322653778 0.0\n"
          ]
        }
      ]
    },
    {
      "cell_type": "code",
      "source": [
        "total_mean_squared_errors = 50\n",
        "epochs = 50\n",
        "mean_squared_errors = []\n",
        "for i in range(0, total_mean_squared_errors):\n",
        "    X_train, X_test, y_train, y_test = train_test_split(predictors, target, test_size=0.3, random_state=i)\n",
        "    model.fit(X_train, y_train, epochs=epochs, verbose=0)\n",
        "    MSE = model.evaluate(X_test, y_test, verbose=0)\n",
        "    print(\"MSE \"+str(i+1)+\": \"+str(MSE))\n",
        "    y_pred = model.predict(X_test)\n",
        "    mean_square_error = mean_squared_error(y_test, y_pred)\n",
        "    mean_squared_errors.append(mean_square_error)\n",
        "\n",
        "mean_squared_errors = np.array(mean_squared_errors)\n",
        "mean = np.mean(mean_squared_errors)\n",
        "standard_deviation = np.std(mean_squared_errors)\n",
        "\n",
        "print('\\n')\n",
        "print(\"The mean and standard deviation of \" +str(total_mean_squared_errors) + \" mean squared errors without normalized data. Total number of epochs for each training is: \" +str(epochs) + \"\\n\")\n",
        "print(\"Mean: \"+str(mean))\n",
        "print(\"Standard Deviation: \"+str(standard_deviation))"
      ],
      "metadata": {
        "colab": {
          "base_uri": "https://localhost:8080/"
        },
        "id": "VmV4qSUDFUxm",
        "outputId": "2b75600f-182b-4e06-a832-22065200f72f"
      },
      "execution_count": 26,
      "outputs": [
        {
          "output_type": "stream",
          "name": "stdout",
          "text": [
            "MSE 1: 46.094242095947266\n",
            "10/10 [==============================] - 0s 2ms/step\n",
            "MSE 2: 53.007755279541016\n",
            "10/10 [==============================] - 0s 2ms/step\n",
            "MSE 3: 43.10266876220703\n",
            "10/10 [==============================] - 0s 2ms/step\n",
            "MSE 4: 48.53050231933594\n",
            "10/10 [==============================] - 0s 2ms/step\n",
            "MSE 5: 46.92416763305664\n",
            "10/10 [==============================] - 0s 3ms/step\n",
            "MSE 6: 53.53571701049805\n",
            "10/10 [==============================] - 0s 2ms/step\n",
            "MSE 7: 55.611061096191406\n",
            "10/10 [==============================] - 0s 2ms/step\n",
            "MSE 8: 43.5250129699707\n",
            "10/10 [==============================] - 0s 2ms/step\n",
            "MSE 9: 53.81312561035156\n",
            "10/10 [==============================] - 0s 2ms/step\n",
            "MSE 10: 54.633602142333984\n",
            "10/10 [==============================] - 0s 3ms/step\n",
            "MSE 11: 44.229000091552734\n",
            "10/10 [==============================] - 0s 2ms/step\n",
            "MSE 12: 43.98044204711914\n",
            "10/10 [==============================] - 0s 2ms/step\n",
            "MSE 13: 65.055908203125\n",
            "10/10 [==============================] - 0s 2ms/step\n",
            "MSE 14: 50.27471923828125\n",
            "10/10 [==============================] - 0s 3ms/step\n",
            "MSE 15: 46.63382339477539\n",
            "10/10 [==============================] - 0s 2ms/step\n",
            "MSE 16: 44.01937484741211\n",
            "10/10 [==============================] - 0s 2ms/step\n",
            "MSE 17: 45.54085159301758\n",
            "10/10 [==============================] - 0s 2ms/step\n",
            "MSE 18: 55.002864837646484\n",
            "10/10 [==============================] - 0s 2ms/step\n",
            "MSE 19: 41.64878845214844\n",
            "10/10 [==============================] - 0s 2ms/step\n",
            "MSE 20: 46.348751068115234\n",
            "10/10 [==============================] - 0s 2ms/step\n",
            "MSE 21: 45.60686492919922\n",
            "10/10 [==============================] - 0s 2ms/step\n",
            "MSE 22: 43.4264030456543\n",
            "10/10 [==============================] - 0s 3ms/step\n",
            "MSE 23: 39.74936294555664\n",
            "10/10 [==============================] - 0s 2ms/step\n",
            "MSE 24: 45.50511169433594\n",
            "10/10 [==============================] - 0s 2ms/step\n",
            "MSE 25: 48.47623825073242\n",
            "10/10 [==============================] - 0s 2ms/step\n",
            "MSE 26: 45.64271545410156\n",
            "10/10 [==============================] - 0s 2ms/step\n",
            "MSE 27: 50.644798278808594\n",
            "10/10 [==============================] - 0s 3ms/step\n",
            "MSE 28: 42.67462921142578\n",
            "10/10 [==============================] - 0s 3ms/step\n",
            "MSE 29: 51.02772903442383\n",
            "10/10 [==============================] - 0s 3ms/step\n",
            "MSE 30: 48.529052734375\n",
            "10/10 [==============================] - 0s 2ms/step\n",
            "MSE 31: 47.650550842285156\n",
            "10/10 [==============================] - 0s 2ms/step\n",
            "MSE 32: 39.534324645996094\n",
            "10/10 [==============================] - 0s 2ms/step\n",
            "MSE 33: 44.544532775878906\n",
            "10/10 [==============================] - 0s 2ms/step\n",
            "MSE 34: 45.84825134277344\n",
            "10/10 [==============================] - 0s 2ms/step\n",
            "MSE 35: 42.39636993408203\n",
            "10/10 [==============================] - 0s 3ms/step\n",
            "MSE 36: 50.82535934448242\n",
            "10/10 [==============================] - 0s 3ms/step\n",
            "MSE 37: 49.175472259521484\n",
            "10/10 [==============================] - 0s 2ms/step\n",
            "MSE 38: 48.94996643066406\n",
            "10/10 [==============================] - 0s 2ms/step\n",
            "MSE 39: 48.40068435668945\n",
            "10/10 [==============================] - 0s 2ms/step\n",
            "MSE 40: 44.10155487060547\n",
            "10/10 [==============================] - 0s 2ms/step\n",
            "MSE 41: 49.53569793701172\n",
            "10/10 [==============================] - 0s 2ms/step\n",
            "MSE 42: 44.312965393066406\n",
            "10/10 [==============================] - 0s 2ms/step\n",
            "MSE 43: 43.79631805419922\n",
            "10/10 [==============================] - 0s 2ms/step\n",
            "MSE 44: 46.79752731323242\n",
            "10/10 [==============================] - 0s 2ms/step\n",
            "MSE 45: 47.856178283691406\n",
            "10/10 [==============================] - 0s 2ms/step\n",
            "MSE 46: 47.939369201660156\n",
            "10/10 [==============================] - 0s 2ms/step\n",
            "MSE 47: 47.20927429199219\n",
            "10/10 [==============================] - 0s 2ms/step\n",
            "MSE 48: 45.86259841918945\n",
            "10/10 [==============================] - 0s 2ms/step\n",
            "MSE 49: 44.646236419677734\n",
            "10/10 [==============================] - 0s 2ms/step\n",
            "MSE 50: 44.61320114135742\n",
            "10/10 [==============================] - 0s 2ms/step\n",
            "\n",
            "\n",
            "The mean and standard deviation of 50 mean squared errors without normalized data. Total number of epochs for each training is: 50\n",
            "\n",
            "Mean: 47.33583609736609\n",
            "Standard Deviation: 4.518208146338591\n"
          ]
        }
      ]
    },
    {
      "cell_type": "code",
      "source": [],
      "metadata": {
        "id": "IQzMxi9JFViX"
      },
      "execution_count": null,
      "outputs": []
    },
    {
      "cell_type": "markdown",
      "source": [
        "# Model with Data Normalization"
      ],
      "metadata": {
        "id": "g4pclY4eBRHB"
      }
    },
    {
      "cell_type": "code",
      "source": [
        "predictors_norm = (predictors - predictors.mean()) / predictors.std()\n"
      ],
      "metadata": {
        "id": "_JS6K3HgBFfY"
      },
      "execution_count": 27,
      "outputs": []
    },
    {
      "cell_type": "code",
      "source": [
        "from sklearn.model_selection import train_test_split\n",
        "X_train, X_test, y_train, y_test = train_test_split( predictors_norm, target, test_size=0.30)"
      ],
      "metadata": {
        "id": "xNqEh0g6BZ5p"
      },
      "execution_count": 28,
      "outputs": []
    },
    {
      "cell_type": "code",
      "source": [
        "model.fit(X_train, y_train, epochs=50, verbose=2)"
      ],
      "metadata": {
        "colab": {
          "base_uri": "https://localhost:8080/"
        },
        "id": "2LXPxHMEGyK5",
        "outputId": "0a9a298e-1139-4aaa-be79-fd3d46569300"
      },
      "execution_count": 29,
      "outputs": [
        {
          "output_type": "stream",
          "name": "stdout",
          "text": [
            "Epoch 1/50\n",
            "23/23 - 0s - loss: 1600.0479 - 39ms/epoch - 2ms/step\n",
            "Epoch 2/50\n",
            "23/23 - 0s - loss: 1532.7744 - 44ms/epoch - 2ms/step\n",
            "Epoch 3/50\n",
            "23/23 - 0s - loss: 1474.4963 - 39ms/epoch - 2ms/step\n",
            "Epoch 4/50\n",
            "23/23 - 0s - loss: 1421.4896 - 39ms/epoch - 2ms/step\n",
            "Epoch 5/50\n",
            "23/23 - 0s - loss: 1372.8479 - 38ms/epoch - 2ms/step\n",
            "Epoch 6/50\n",
            "23/23 - 0s - loss: 1324.6243 - 37ms/epoch - 2ms/step\n",
            "Epoch 7/50\n",
            "23/23 - 0s - loss: 1278.9762 - 40ms/epoch - 2ms/step\n",
            "Epoch 8/50\n",
            "23/23 - 0s - loss: 1235.0051 - 37ms/epoch - 2ms/step\n",
            "Epoch 9/50\n",
            "23/23 - 0s - loss: 1192.1705 - 42ms/epoch - 2ms/step\n",
            "Epoch 10/50\n",
            "23/23 - 0s - loss: 1151.5624 - 41ms/epoch - 2ms/step\n",
            "Epoch 11/50\n",
            "23/23 - 0s - loss: 1111.3868 - 75ms/epoch - 3ms/step\n",
            "Epoch 12/50\n",
            "23/23 - 0s - loss: 1072.0701 - 47ms/epoch - 2ms/step\n",
            "Epoch 13/50\n",
            "23/23 - 0s - loss: 1034.1003 - 42ms/epoch - 2ms/step\n",
            "Epoch 14/50\n",
            "23/23 - 0s - loss: 995.8165 - 36ms/epoch - 2ms/step\n",
            "Epoch 15/50\n",
            "23/23 - 0s - loss: 958.5999 - 54ms/epoch - 2ms/step\n",
            "Epoch 16/50\n",
            "23/23 - 0s - loss: 920.1619 - 58ms/epoch - 3ms/step\n",
            "Epoch 17/50\n",
            "23/23 - 0s - loss: 881.3143 - 51ms/epoch - 2ms/step\n",
            "Epoch 18/50\n",
            "23/23 - 0s - loss: 842.8947 - 47ms/epoch - 2ms/step\n",
            "Epoch 19/50\n",
            "23/23 - 0s - loss: 804.8890 - 46ms/epoch - 2ms/step\n",
            "Epoch 20/50\n",
            "23/23 - 0s - loss: 767.4515 - 52ms/epoch - 2ms/step\n",
            "Epoch 21/50\n",
            "23/23 - 0s - loss: 731.3652 - 56ms/epoch - 2ms/step\n",
            "Epoch 22/50\n",
            "23/23 - 0s - loss: 696.9746 - 55ms/epoch - 2ms/step\n",
            "Epoch 23/50\n",
            "23/23 - 0s - loss: 664.0114 - 51ms/epoch - 2ms/step\n",
            "Epoch 24/50\n",
            "23/23 - 0s - loss: 633.0877 - 51ms/epoch - 2ms/step\n",
            "Epoch 25/50\n",
            "23/23 - 0s - loss: 603.4401 - 64ms/epoch - 3ms/step\n",
            "Epoch 26/50\n",
            "23/23 - 0s - loss: 576.3467 - 63ms/epoch - 3ms/step\n",
            "Epoch 27/50\n",
            "23/23 - 0s - loss: 550.1776 - 59ms/epoch - 3ms/step\n",
            "Epoch 28/50\n",
            "23/23 - 0s - loss: 525.6488 - 78ms/epoch - 3ms/step\n",
            "Epoch 29/50\n",
            "23/23 - 0s - loss: 503.2811 - 116ms/epoch - 5ms/step\n",
            "Epoch 30/50\n",
            "23/23 - 0s - loss: 481.8476 - 61ms/epoch - 3ms/step\n",
            "Epoch 31/50\n",
            "23/23 - 0s - loss: 462.4557 - 63ms/epoch - 3ms/step\n",
            "Epoch 32/50\n",
            "23/23 - 0s - loss: 444.0236 - 51ms/epoch - 2ms/step\n",
            "Epoch 33/50\n",
            "23/23 - 0s - loss: 427.5128 - 50ms/epoch - 2ms/step\n",
            "Epoch 34/50\n",
            "23/23 - 0s - loss: 411.5353 - 50ms/epoch - 2ms/step\n",
            "Epoch 35/50\n",
            "23/23 - 0s - loss: 397.1124 - 49ms/epoch - 2ms/step\n",
            "Epoch 36/50\n",
            "23/23 - 0s - loss: 383.6720 - 51ms/epoch - 2ms/step\n",
            "Epoch 37/50\n",
            "23/23 - 0s - loss: 371.5071 - 52ms/epoch - 2ms/step\n",
            "Epoch 38/50\n",
            "23/23 - 0s - loss: 359.7645 - 52ms/epoch - 2ms/step\n",
            "Epoch 39/50\n",
            "23/23 - 0s - loss: 349.3308 - 57ms/epoch - 2ms/step\n",
            "Epoch 40/50\n",
            "23/23 - 0s - loss: 339.7101 - 61ms/epoch - 3ms/step\n",
            "Epoch 41/50\n",
            "23/23 - 0s - loss: 330.7187 - 56ms/epoch - 2ms/step\n",
            "Epoch 42/50\n",
            "23/23 - 0s - loss: 321.9150 - 60ms/epoch - 3ms/step\n",
            "Epoch 43/50\n",
            "23/23 - 0s - loss: 314.0788 - 78ms/epoch - 3ms/step\n",
            "Epoch 44/50\n",
            "23/23 - 0s - loss: 306.6602 - 66ms/epoch - 3ms/step\n",
            "Epoch 45/50\n",
            "23/23 - 0s - loss: 299.8620 - 67ms/epoch - 3ms/step\n",
            "Epoch 46/50\n",
            "23/23 - 0s - loss: 293.2457 - 61ms/epoch - 3ms/step\n",
            "Epoch 47/50\n",
            "23/23 - 0s - loss: 287.0768 - 65ms/epoch - 3ms/step\n",
            "Epoch 48/50\n",
            "23/23 - 0s - loss: 281.3260 - 57ms/epoch - 2ms/step\n",
            "Epoch 49/50\n",
            "23/23 - 0s - loss: 275.8440 - 53ms/epoch - 2ms/step\n",
            "Epoch 50/50\n",
            "23/23 - 0s - loss: 270.5878 - 49ms/epoch - 2ms/step\n"
          ]
        },
        {
          "output_type": "execute_result",
          "data": {
            "text/plain": [
              "<keras.callbacks.History at 0x7f5d079069d0>"
            ]
          },
          "metadata": {},
          "execution_count": 29
        }
      ]
    },
    {
      "cell_type": "code",
      "source": [
        "loss_val = model.evaluate(X_test, y_test)\n",
        "y_pred = model.predict(X_test)\n",
        "loss_val"
      ],
      "metadata": {
        "colab": {
          "base_uri": "https://localhost:8080/"
        },
        "id": "11jWWC18HAOA",
        "outputId": "ebc037ba-aca9-4fdc-8fad-bce2a319bafc"
      },
      "execution_count": 30,
      "outputs": [
        {
          "output_type": "stream",
          "name": "stdout",
          "text": [
            "10/10 [==============================] - 0s 3ms/step - loss: 267.2437\n",
            "10/10 [==============================] - 0s 2ms/step\n"
          ]
        },
        {
          "output_type": "execute_result",
          "data": {
            "text/plain": [
              "267.2437438964844"
            ]
          },
          "metadata": {},
          "execution_count": 30
        }
      ]
    },
    {
      "cell_type": "code",
      "source": [
        "from sklearn.metrics import mean_squared_error\n",
        "mean_square_error = mean_squared_error(y_test, y_pred)\n",
        "mean = np.mean(mean_square_error)\n",
        "standard_deviation = np.std(mean_square_error)\n",
        "print(mean, standard_deviation)"
      ],
      "metadata": {
        "colab": {
          "base_uri": "https://localhost:8080/"
        },
        "id": "zrqAJ655HLPJ",
        "outputId": "48ef3037-756c-4b35-d8e5-14feea0131c5"
      },
      "execution_count": 31,
      "outputs": [
        {
          "output_type": "stream",
          "name": "stdout",
          "text": [
            "267.2437308461713 0.0\n"
          ]
        }
      ]
    },
    {
      "cell_type": "code",
      "source": [
        "total_mean_squared_errors = 50\n",
        "epochs = 50\n",
        "mean_squared_errors = []\n",
        "for i in range(0, total_mean_squared_errors):\n",
        "    X_train, X_test, y_train, y_test = train_test_split(predictors, target, test_size=0.3, random_state=i)\n",
        "    model.fit(X_train, y_train, epochs=epochs, verbose=0)\n",
        "    MSE = model.evaluate(X_test, y_test, verbose=0)\n",
        "    print(\"MSE \"+str(i+1)+\": \"+str(MSE))\n",
        "    y_pred = model.predict(X_test)\n",
        "    mean_square_error = mean_squared_error(y_test, y_pred)\n",
        "    mean_squared_errors.append(mean_square_error)\n",
        "\n",
        "mean_squared_errors = np.array(mean_squared_errors)\n",
        "mean = np.mean(mean_squared_errors)\n",
        "standard_deviation = np.std(mean_squared_errors)\n",
        "\n",
        "print('\\n')\n",
        "print(\"The mean and standard deviation of \" +str(total_mean_squared_errors) + \" mean squared errors without normalized data. Total number of epochs for each training is: \" +str(epochs) + \"\\n\")\n",
        "print(\"Mean: \"+str(mean))\n",
        "print(\"Standard Deviation: \"+str(standard_deviation))"
      ],
      "metadata": {
        "colab": {
          "base_uri": "https://localhost:8080/"
        },
        "id": "khqnb0bOHPlo",
        "outputId": "567fd18e-0653-42ac-99a2-0e72dcbf87a9"
      },
      "execution_count": 32,
      "outputs": [
        {
          "output_type": "stream",
          "name": "stdout",
          "text": [
            "MSE 1: 456.12261962890625\n",
            "10/10 [==============================] - 0s 2ms/step\n",
            "MSE 2: 277.5857238769531\n",
            "10/10 [==============================] - 0s 2ms/step\n",
            "MSE 3: 110.79200744628906\n",
            "10/10 [==============================] - 0s 2ms/step\n",
            "MSE 4: 123.4985580444336\n",
            "10/10 [==============================] - 0s 4ms/step\n",
            "MSE 5: 126.52058410644531\n",
            "10/10 [==============================] - 0s 2ms/step\n",
            "MSE 6: 110.84736633300781\n",
            "10/10 [==============================] - 0s 2ms/step\n",
            "MSE 7: 141.3171844482422\n",
            "10/10 [==============================] - 0s 6ms/step\n",
            "MSE 8: 99.17901611328125\n",
            "10/10 [==============================] - 0s 2ms/step\n",
            "MSE 9: 119.22916412353516\n",
            "10/10 [==============================] - 0s 3ms/step\n",
            "MSE 10: 116.5196304321289\n",
            "10/10 [==============================] - 0s 2ms/step\n",
            "MSE 11: 112.14505004882812\n",
            "10/10 [==============================] - 0s 2ms/step\n",
            "MSE 12: 105.89807891845703\n",
            "10/10 [==============================] - 0s 2ms/step\n",
            "MSE 13: 117.25823211669922\n",
            "10/10 [==============================] - 0s 3ms/step\n",
            "MSE 14: 115.38249969482422\n",
            "10/10 [==============================] - 0s 3ms/step\n",
            "MSE 15: 108.46613311767578\n",
            "10/10 [==============================] - 0s 2ms/step\n",
            "MSE 16: 110.53369140625\n",
            "10/10 [==============================] - 0s 2ms/step\n",
            "MSE 17: 104.34168243408203\n",
            "10/10 [==============================] - 0s 2ms/step\n",
            "MSE 18: 95.62700653076172\n",
            "10/10 [==============================] - 0s 2ms/step\n",
            "MSE 19: 99.98199462890625\n",
            "10/10 [==============================] - 0s 2ms/step\n",
            "MSE 20: 113.06148529052734\n",
            "10/10 [==============================] - 0s 3ms/step\n",
            "MSE 21: 132.58087158203125\n",
            "10/10 [==============================] - 0s 2ms/step\n",
            "MSE 22: 106.16458129882812\n",
            "10/10 [==============================] - 0s 2ms/step\n",
            "MSE 23: 111.31550598144531\n",
            "10/10 [==============================] - 0s 2ms/step\n",
            "MSE 24: 103.7287826538086\n",
            "10/10 [==============================] - 0s 2ms/step\n",
            "MSE 25: 112.3869857788086\n",
            "10/10 [==============================] - 0s 2ms/step\n",
            "MSE 26: 99.00532531738281\n",
            "10/10 [==============================] - 0s 2ms/step\n",
            "MSE 27: 125.04710388183594\n",
            "10/10 [==============================] - 0s 2ms/step\n",
            "MSE 28: 110.16718292236328\n",
            "10/10 [==============================] - 0s 2ms/step\n",
            "MSE 29: 114.03319549560547\n",
            "10/10 [==============================] - 0s 2ms/step\n",
            "MSE 30: 113.0703353881836\n",
            "10/10 [==============================] - 0s 2ms/step\n",
            "MSE 31: 133.29287719726562\n",
            "10/10 [==============================] - 0s 2ms/step\n",
            "MSE 32: 108.4879150390625\n",
            "10/10 [==============================] - 0s 3ms/step\n",
            "MSE 33: 104.13040161132812\n",
            "10/10 [==============================] - 0s 2ms/step\n",
            "MSE 34: 110.24385833740234\n",
            "10/10 [==============================] - 0s 2ms/step\n",
            "MSE 35: 113.41545104980469\n",
            "10/10 [==============================] - 0s 2ms/step\n",
            "MSE 36: 124.38848876953125\n",
            "10/10 [==============================] - 0s 2ms/step\n",
            "MSE 37: 119.36444091796875\n",
            "10/10 [==============================] - 0s 3ms/step\n",
            "MSE 38: 115.00916290283203\n",
            "10/10 [==============================] - 0s 2ms/step\n",
            "MSE 39: 107.69828033447266\n",
            "10/10 [==============================] - 0s 2ms/step\n",
            "MSE 40: 120.69652557373047\n",
            "10/10 [==============================] - 0s 2ms/step\n",
            "MSE 41: 124.94525146484375\n",
            "10/10 [==============================] - 0s 2ms/step\n",
            "MSE 42: 111.18115234375\n",
            "10/10 [==============================] - 0s 3ms/step\n",
            "MSE 43: 112.61833953857422\n",
            "10/10 [==============================] - 0s 2ms/step\n",
            "MSE 44: 108.82123565673828\n",
            "10/10 [==============================] - 0s 2ms/step\n",
            "MSE 45: 114.40299224853516\n",
            "10/10 [==============================] - 0s 2ms/step\n",
            "MSE 46: 115.00687408447266\n",
            "10/10 [==============================] - 0s 3ms/step\n",
            "MSE 47: 113.84950256347656\n",
            "10/10 [==============================] - 0s 3ms/step\n",
            "MSE 48: 116.01361846923828\n",
            "10/10 [==============================] - 0s 2ms/step\n",
            "MSE 49: 104.1203842163086\n",
            "10/10 [==============================] - 0s 2ms/step\n",
            "MSE 50: 109.47840881347656\n",
            "10/10 [==============================] - 0s 2ms/step\n",
            "\n",
            "\n",
            "The mean and standard deviation of 50 mean squared errors without normalized data. Total number of epochs for each training is: 50\n",
            "\n",
            "Mean: 123.57945345638494\n",
            "Standard Deviation: 53.505141515703\n"
          ]
        }
      ]
    }
  ]
}